{
 "cells": [
  {
   "cell_type": "markdown",
   "metadata": {},
   "source": [
    "## Create Database and Tables"
   ]
  },
  {
   "cell_type": "code",
   "execution_count": 0,
   "metadata": {
    "displayMode": "maximized",
    "isLimitOn": true,
    "vscode": {
     "languageId": "redshift"
    },
    "width": 12
   },
   "outputs": [],
   "source": [
    "CREATE DATABASE sales_performances_dev;\n",
    "SET search_path TO public;"
   ]
  },
  {
   "cell_type": "markdown",
   "metadata": {
    "displayMode": "maximized",
    "isLimitOn": true,
    "width": 12
   },
   "source": [
    "### Create Dimension Tables"
   ]
  },
  {
   "cell_type": "code",
   "execution_count": 0,
   "metadata": {
    "displayMode": "maximized",
    "isLimitOn": true,
    "vscode": {
     "languageId": "redshift"
    },
    "width": 12
   },
   "outputs": [],
   "source": [
    "CREATE TABLE stores (\n",
    "    store_id INT PRIMARY KEY,\n",
    "    store_name VARCHAR(255),\n",
    "    store_city VARCHAR(255),\n",
    "    store_address VARCHAR(255)\n",
    ")\n",
    "DISTSTYLE ALL;\n",
    "\n",
    "CREATE TABLE employees (\n",
    "    employee_id INT PRIMARY KEY,\n",
    "    name VARCHAR(255),\n",
    "    role VARCHAR(100),\n",
    "    hire_date DATE,\n",
    "    salary DECIMAL(10, 2)\n",
    ")\n",
    "DISTKEY(employee_id);\n",
    "\n",
    "CREATE TABLE products (\n",
    "    product_id INT PRIMARY KEY,\n",
    "    product_name VARCHAR(255),\n",
    "    category VARCHAR(100)\n",
    ")\n",
    "DISTSTYLE ALL;"
   ]
  },
  {
   "cell_type": "markdown",
   "metadata": {
    "displayMode": "maximized",
    "isLimitOn": true,
    "width": 12
   },
   "source": [
    "### Create Fact Table"
   ]
  },
  {
   "cell_type": "code",
   "execution_count": 0,
   "metadata": {
    "displayMode": "maximized",
    "isLimitOn": true,
    "vscode": {
     "languageId": "redshift"
    },
    "width": 12
   },
   "outputs": [],
   "source": [
    "CREATE TABLE sales (\n",
    "    employee_id INT PRIMARY KEY,\n",
    "    sale_id INT,\n",
    "    store_id INT,\n",
    "    product_id INT,\n",
    "    sale_date DATE,\n",
    "    quantity INT,\n",
    "    unit_price INT,\n",
    "    total_amount DECIMAL(10, 2),\n",
    "    FOREIGN KEY (store_id) REFERENCES stores(store_id),\n",
    "    FOREIGN KEY (employee_id) REFERENCES employees(employee_id),\n",
    "    FOREIGN KEY (product_id) REFERENCES products(product_id)\n",
    ")\n",
    "DISTKEY (employee_id)\n",
    "SORTKEY (sale_date)\n",
    ";"
   ]
  },
  {
   "cell_type": "markdown",
   "metadata": {},
   "source": [
    "## Load Data & Create View"
   ]
  },
  {
   "cell_type": "markdown",
   "metadata": {},
   "source": [
    "### Load Data into Tables"
   ]
  },
  {
   "cell_type": "code",
   "execution_count": null,
   "metadata": {
    "vscode": {
     "languageId": "python"
    }
   },
   "outputs": [],
   "source": [
    "COPY employees\n",
    "    FROM 's3://redshift-project/employees.csv' \n",
    "    DELIMITER ','\n",
    "    CSV\n",
    "    DATEFORMAT 'YYYY-MM-DD' \n",
    "    REGION 'eu-west-2'\n",
    "    IGNOREHEADER 1\n",
    "    IAM_ROLE 'arn:aws:iam::291064975419:role/service-role/AmazonRedshift-CommandsAccessRole-20241207T104511';\n",
    "    \n",
    "COPY products\n",
    "    FROM 's3://redshift-project/products.csv' \n",
    "    DELIMITER ',' \n",
    "    CSV\n",
    "    DATEFORMAT 'YYYY-MM-DD' \n",
    "    REGION 'eu-west-2'\n",
    "    IGNOREHEADER 1\n",
    "    IAM_ROLE 'arn:aws:iam::291064975419:role/service-role/AmazonRedshift-CommandsAccessRole-20241207T104511';\n",
    "\n",
    "COPY stores\n",
    "    FROM 's3://redshift-project/stores.csv' \n",
    "    DELIMITER ','\n",
    "    CSV \n",
    "    DATEFORMAT 'YYYY-MM-DD' \n",
    "    REGION 'eu-west-2'\n",
    "    IGNOREHEADER 1\n",
    "    IAM_ROLE 'arn:aws:iam::291064975419:role/service-role/AmazonRedshift-CommandsAccessRole-20241207T104511';\n",
    "\n",
    "COPY sales(sale_id,store_id,employee_id,product_id,sale_date,quantity,unit_price,total_amount)\n",
    "    FROM 's3://redshift-project/sales.csv'\n",
    "    DELIMITER ','\n",
    "    CSV \n",
    "    DATEFORMAT 'YYYY-MM-DD' \n",
    "    REGION 'eu-west-2'\n",
    "    IGNOREHEADER 1\n",
    "    IAM_ROLE 'arn:aws:iam::291064975419:role/service-role/AmazonRedshift-CommandsAccessRole-20241207T104511';"
   ]
  },
  {
   "cell_type": "markdown",
   "metadata": {},
   "source": [
    "### Create View"
   ]
  },
  {
   "cell_type": "code",
   "execution_count": null,
   "metadata": {
    "vscode": {
     "languageId": "python"
    }
   },
   "outputs": [],
   "source": [
    "CREATE VIEW employee_monthly_sales AS(\n",
    "    with employee_monthly_sales_by_id as(\n",
    "        select \n",
    "            sales.employee_id,\n",
    "            DATE_TRUNC('month', sales.sale_date) AS month,\n",
    "            sum(sales.total_amount) as total_sales\n",
    "        FROM\n",
    "            sales\n",
    "        WHERE\n",
    "            DATE_PART('year', sales.sale_date) = 2024\n",
    "        GROUP BY\n",
    "            sales.employee_id, month\n",
    "        ORDER BY\n",
    "            sales.employee_id, sum(sales.total_amount) DESC\n",
    "    )\n",
    "\n",
    "    SELECT\n",
    "        e.employee_id,\n",
    "        e.name,\n",
    "        e.role,\n",
    "        em.month,\n",
    "        em.total_sales\n",
    "    from \n",
    "        employees as e\n",
    "        left join employee_monthly_sales_by_id as em\n",
    "            on e.employee_id = em.employee_id\n",
    ")"
   ]
  },
  {
   "cell_type": "markdown",
   "metadata": {},
   "source": [
    "## Create User and Grant Access For Tableau"
   ]
  },
  {
   "cell_type": "code",
   "execution_count": null,
   "metadata": {
    "vscode": {
     "languageId": "python"
    }
   },
   "outputs": [],
   "source": [
    "CREATE USER tableau_user PASSWORD 'your-password';\n",
    "GRANT SELECT ON public.employee_monthly_sales TO tableau_user;"
   ]
  }
 ],
 "metadata": {
  "kernelspec": {
   "display_name": "Redshift",
   "language": "postgresql",
   "name": "Redshift"
  },
  "language_info": {
   "file_extension": ".sql",
   "name": "Redshift"
  },
  "title": "Create Tables",
  "version": 1
 },
 "nbformat": 4,
 "nbformat_minor": 0
}
